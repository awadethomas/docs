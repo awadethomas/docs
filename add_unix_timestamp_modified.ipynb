{
 "cells": [
  {
   "cell_type": "code",
   "execution_count": 1,
   "metadata": {
    "collapsed": true
   },
   "outputs": [],
   "source": [
    "import json, sqlite3, urllib.request\n",
    "import pandas as pd\n",
    "from datetime import datetime"
   ]
  },
  {
   "cell_type": "code",
   "execution_count": 2,
   "metadata": {
    "collapsed": true
   },
   "outputs": [],
   "source": [
    "# open database\n",
    "conn = sqlite3.connect('log.db')\n",
    "c = conn.cursor()"
   ]
  },
  {
   "cell_type": "code",
   "execution_count": 3,
   "metadata": {},
   "outputs": [
    {
     "data": {
      "text/plain": [
       "<sqlite3.Cursor at 0x109c19500>"
      ]
     },
     "execution_count": 3,
     "metadata": {},
     "output_type": "execute_result"
    }
   ],
   "source": [
    "# create table\n",
    "c.execute(\"CREATE TABLE IF NOT EXISTS log_802 (id INTEGER PRIMARY KEY AUTOINCREMENT, \\\n",
    "    timestamp DATETIME NOT NULL, vehicle_id INTEGER NOT NULL, route_id INTEGER NOT NULL, \\\n",
    "    lat REAL NOT NULL, lon REAL NOT NULL, direction REAL NOT NULL)\")"
   ]
  },
  {
   "cell_type": "code",
   "execution_count": 4,
   "metadata": {},
   "outputs": [],
   "source": [
    "# get vehicles data from API\n",
    "req = urllib.request.Request('http://api.metro.net/agencies/lametro-rail/routes/801/vehicles/')\n",
    "req.add_header('Accept', 'application/json')\n",
    "response = urllib.request.urlopen(req)\n",
    "data = response.read()"
   ]
  },
  {
   "cell_type": "code",
   "execution_count": 5,
   "metadata": {},
   "outputs": [
    {
     "data": {
      "text/plain": [
       "{'items': [{'heading': 270.0,\n",
       "   'id': '107',\n",
       "   'latitude': 33.928426,\n",
       "   'longitude': -118.230135,\n",
       "   'predictable': True,\n",
       "   'route_id': '801',\n",
       "   'run_id': '801_1_var0',\n",
       "   'seconds_since_report': 12},\n",
       "  {'heading': 0.0,\n",
       "   'id': '101',\n",
       "   'latitude': 33.9753,\n",
       "   'longitude': -118.243243,\n",
       "   'predictable': True,\n",
       "   'route_id': '801',\n",
       "   'run_id': '801_0_var0',\n",
       "   'seconds_since_report': 31},\n",
       "  {'heading': 180.0,\n",
       "   'id': '111',\n",
       "   'latitude': 34.031664,\n",
       "   'longitude': -118.266014,\n",
       "   'predictable': True,\n",
       "   'route_id': '801',\n",
       "   'run_id': '801_1_var0',\n",
       "   'seconds_since_report': 19},\n",
       "  {'heading': 180.0,\n",
       "   'id': '103',\n",
       "   'latitude': 33.788987,\n",
       "   'longitude': -118.189398,\n",
       "   'predictable': True,\n",
       "   'route_id': '801',\n",
       "   'run_id': '801_1_var0',\n",
       "   'seconds_since_report': 19},\n",
       "  {'heading': 180.0,\n",
       "   'id': '110',\n",
       "   'latitude': 33.9234409,\n",
       "   'longitude': -118.235169,\n",
       "   'predictable': True,\n",
       "   'route_id': '801',\n",
       "   'run_id': '801_1_var0',\n",
       "   'seconds_since_report': 10},\n",
       "  {'heading': 0.0,\n",
       "   'id': '102',\n",
       "   'latitude': 33.812209,\n",
       "   'longitude': -118.192195,\n",
       "   'predictable': True,\n",
       "   'route_id': '801',\n",
       "   'run_id': '801_0_var0',\n",
       "   'seconds_since_report': 48}]}"
      ]
     },
     "execution_count": 5,
     "metadata": {},
     "output_type": "execute_result"
    }
   ],
   "source": [
    "# quick peek\n",
    "encoding = response.info().get_content_charset('utf-8')\n",
    "json.loads(data.decode(encoding))"
   ]
  },
  {
   "cell_type": "code",
   "execution_count": 6,
   "metadata": {
    "collapsed": true
   },
   "outputs": [],
   "source": [
    "# derive timestamp from datetime string in returned header\n",
    "time_string = response.info()['Date']\n",
    "date_obj = datetime.strptime(time_string, '%a, %d %b %Y %H:%M:%S %Z')\n",
    "ts = date_obj.timestamp()"
   ]
  },
  {
   "cell_type": "code",
   "execution_count": 7,
   "metadata": {},
   "outputs": [],
   "source": [
    "# load data into dict object and access array of items\n",
    "parsed = json.loads(data)\n",
    "items = parsed[\"items\"]"
   ]
  },
  {
   "cell_type": "code",
   "execution_count": 8,
   "metadata": {},
   "outputs": [
    {
     "name": "stdout",
     "output_type": "stream",
     "text": [
      "DONE\n"
     ]
    }
   ],
   "source": [
    "# these fields must be present in each item for data to be valid\n",
    "fields = ['id', 'seconds_since_report', 'route_id', 'latitude', 'longitude', 'heading']\n",
    "# list of valid items\n",
    "valid = []\n",
    "# check all fields are present\n",
    "for vehicle in items:\n",
    "    for field in fields:\n",
    "        if not field in vehicle.keys():\n",
    "            all_fields_present = False\n",
    "            break\n",
    "        else:\n",
    "            all_fields_present = True\n",
    "    if all_fields_present == True:\n",
    "        # push vehicle into valid array\n",
    "        valid.append(vehicle)\n",
    "\n",
    "for vehicle in valid:\n",
    "    # calculate timestamp of each position entry and add key to dict\n",
    "    vehicle['timestamp'] = ts - int(vehicle['seconds_since_report'])\n",
    "    # insert each vehicle position entry into database\n",
    "    c.execute(\"INSERT INTO log_802 (timestamp, vehicle_id, route_id, lat, lon, direction) VALUES (?, ?, ?, ?, ?, ?)\", [float(vehicle['timestamp']), int(vehicle['id']),int(vehicle['route_id']), float(vehicle['latitude']), float(vehicle['longitude']), float(vehicle['heading'])])\n",
    "\n",
    "conn.commit()\n",
    "\n",
    "# close database\n",
    "conn.close()\n",
    "print(\"DONE\")"
   ]
  },
  {
   "cell_type": "code",
   "execution_count": 9,
   "metadata": {},
   "outputs": [],
   "source": [
    "# insert the database into a dataframe\n",
    "new_conn = sqlite3.connect('log.db')\n",
    "df = pd.read_sql_query(\"SELECT * from log_802\", new_conn)"
   ]
  },
  {
   "cell_type": "code",
   "execution_count": 10,
   "metadata": {},
   "outputs": [
    {
     "data": {
      "text/html": [
       "<div>\n",
       "<style>\n",
       "    .dataframe thead tr:only-child th {\n",
       "        text-align: right;\n",
       "    }\n",
       "\n",
       "    .dataframe thead th {\n",
       "        text-align: left;\n",
       "    }\n",
       "\n",
       "    .dataframe tbody tr th {\n",
       "        vertical-align: top;\n",
       "    }\n",
       "</style>\n",
       "<table border=\"1\" class=\"dataframe\">\n",
       "  <thead>\n",
       "    <tr style=\"text-align: right;\">\n",
       "      <th></th>\n",
       "      <th>id</th>\n",
       "      <th>timestamp</th>\n",
       "      <th>vehicle_id</th>\n",
       "      <th>route_id</th>\n",
       "      <th>lat</th>\n",
       "      <th>lon</th>\n",
       "      <th>direction</th>\n",
       "    </tr>\n",
       "  </thead>\n",
       "  <tbody>\n",
       "    <tr>\n",
       "      <th>0</th>\n",
       "      <td>1</td>\n",
       "      <td>1531483316</td>\n",
       "      <td>104</td>\n",
       "      <td>801</td>\n",
       "      <td>33.790072</td>\n",
       "      <td>-118.189292</td>\n",
       "      <td>180.0</td>\n",
       "    </tr>\n",
       "    <tr>\n",
       "      <th>1</th>\n",
       "      <td>2</td>\n",
       "      <td>1531483307</td>\n",
       "      <td>107</td>\n",
       "      <td>801</td>\n",
       "      <td>33.872398</td>\n",
       "      <td>-118.221081</td>\n",
       "      <td>0.0</td>\n",
       "    </tr>\n",
       "    <tr>\n",
       "      <th>2</th>\n",
       "      <td>3</td>\n",
       "      <td>1531483307</td>\n",
       "      <td>101</td>\n",
       "      <td>801</td>\n",
       "      <td>33.794189</td>\n",
       "      <td>-118.189324</td>\n",
       "      <td>0.0</td>\n",
       "    </tr>\n",
       "    <tr>\n",
       "      <th>3</th>\n",
       "      <td>4</td>\n",
       "      <td>1531483316</td>\n",
       "      <td>111</td>\n",
       "      <td>801</td>\n",
       "      <td>34.033758</td>\n",
       "      <td>-118.270421</td>\n",
       "      <td>0.0</td>\n",
       "    </tr>\n",
       "    <tr>\n",
       "      <th>4</th>\n",
       "      <td>5</td>\n",
       "      <td>1531483278</td>\n",
       "      <td>103</td>\n",
       "      <td>801</td>\n",
       "      <td>33.959738</td>\n",
       "      <td>-118.243314</td>\n",
       "      <td>180.0</td>\n",
       "    </tr>\n",
       "  </tbody>\n",
       "</table>\n",
       "</div>"
      ],
      "text/plain": [
       "   id   timestamp  vehicle_id  route_id        lat         lon  direction\n",
       "0   1  1531483316         104       801  33.790072 -118.189292      180.0\n",
       "1   2  1531483307         107       801  33.872398 -118.221081        0.0\n",
       "2   3  1531483307         101       801  33.794189 -118.189324        0.0\n",
       "3   4  1531483316         111       801  34.033758 -118.270421        0.0\n",
       "4   5  1531483278         103       801  33.959738 -118.243314      180.0"
      ]
     },
     "execution_count": 10,
     "metadata": {},
     "output_type": "execute_result"
    }
   ],
   "source": [
    "df.head()"
   ]
  },
  {
   "cell_type": "code",
   "execution_count": 11,
   "metadata": {
    "collapsed": true
   },
   "outputs": [],
   "source": [
    "# enjoy"
   ]
  }
 ],
 "metadata": {
  "kernelspec": {
   "display_name": "Python 3",
   "language": "python",
   "name": "python3"
  },
  "language_info": {
   "codemirror_mode": {
    "name": "ipython",
    "version": 3
   },
   "file_extension": ".py",
   "mimetype": "text/x-python",
   "name": "python",
   "nbconvert_exporter": "python",
   "pygments_lexer": "ipython3",
   "version": "3.6.3"
  }
 },
 "nbformat": 4,
 "nbformat_minor": 2
}
